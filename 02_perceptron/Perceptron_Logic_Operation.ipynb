{
 "cells": [
  {
   "cell_type": "code",
   "execution_count": 1,
   "metadata": {
    "collapsed": true
   },
   "outputs": [],
   "source": [
    "import numpy as np"
   ]
  },
  {
   "cell_type": "code",
   "execution_count": 2,
   "metadata": {
    "collapsed": true
   },
   "outputs": [],
   "source": [
    "import matplotlib.pyplot as plt"
   ]
  },
  {
   "cell_type": "markdown",
   "metadata": {},
   "source": [
    "## NAND GATE"
   ]
  },
  {
   "cell_type": "code",
   "execution_count": null,
   "metadata": {
    "collapsed": true
   },
   "outputs": [],
   "source": [
    "def NAND(x1, x2):\n",
    "    w1 = -1\n",
    "    w2 = -1\n",
    "    b = -2\n",
    "    temp = w1*x1 + w2*x2\n",
    "    if temp > b:\n",
    "        Y = 1\n",
    "    else:\n",
    "        Y = 0\n",
    "    return Y"
   ]
  },
  {
   "cell_type": "code",
   "execution_count": 4,
   "metadata": {},
   "outputs": [
    {
     "name": "stdout",
     "output_type": "stream",
     "text": [
      "0 0 => 1\n",
      "0 1 => 1\n",
      "1 0 => 1\n",
      "1 1 => 0\n"
     ]
    }
   ],
   "source": [
    "for i in [0, 1]:\n",
    "    for j in [0, 1]:\n",
    "        print(i, j, \"=>\", NAND(i,j))\n",
    "        "
   ]
  },
  {
   "cell_type": "markdown",
   "metadata": {},
   "source": [
    "## NOT GATE"
   ]
  },
  {
   "cell_type": "code",
   "execution_count": 5,
   "metadata": {
    "collapsed": true
   },
   "outputs": [],
   "source": [
    "def NOT(x1):\n",
    "    Y = NAND(x1,x1)\n",
    "    return Y"
   ]
  },
  {
   "cell_type": "code",
   "execution_count": 6,
   "metadata": {},
   "outputs": [
    {
     "name": "stdout",
     "output_type": "stream",
     "text": [
      "1\n",
      "0\n"
     ]
    }
   ],
   "source": [
    "print(NOT(0))\n",
    "print(NOT(1))"
   ]
  },
  {
   "cell_type": "markdown",
   "metadata": {},
   "source": [
    "## OR GATE"
   ]
  },
  {
   "cell_type": "code",
   "execution_count": 7,
   "metadata": {
    "collapsed": true
   },
   "outputs": [],
   "source": [
    "def OR(x1, x2):\n",
    "    Y = NAND(NOT(x1), NOT(x2))\n",
    "    return Y    "
   ]
  },
  {
   "cell_type": "code",
   "execution_count": 9,
   "metadata": {},
   "outputs": [
    {
     "name": "stdout",
     "output_type": "stream",
     "text": [
      "0 0 => 0\n",
      "0 1 => 1\n",
      "1 0 => 1\n",
      "1 1 => 1\n"
     ]
    }
   ],
   "source": [
    "for i in [0, 1]:\n",
    "    for j in [0, 1]:\n",
    "        print(i, j, \"=>\", OR(i,j))        "
   ]
  },
  {
   "cell_type": "markdown",
   "metadata": {},
   "source": [
    "## AND GATE"
   ]
  },
  {
   "cell_type": "code",
   "execution_count": 10,
   "metadata": {
    "collapsed": true
   },
   "outputs": [],
   "source": [
    "def AND(x1, x2):\n",
    "    Y = NOT(NAND(x1, x2));\n",
    "    return Y"
   ]
  },
  {
   "cell_type": "code",
   "execution_count": 12,
   "metadata": {},
   "outputs": [
    {
     "name": "stdout",
     "output_type": "stream",
     "text": [
      "0 0 => 0\n",
      "0 1 => 0\n",
      "1 0 => 0\n",
      "1 1 => 1\n"
     ]
    }
   ],
   "source": [
    "for i in [0, 1]:\n",
    "    for j in [0, 1]:\n",
    "        print(i, j, \"=>\", AND(i,j))"
   ]
  },
  {
   "cell_type": "markdown",
   "metadata": {},
   "source": [
    "## XOR GATE"
   ]
  },
  {
   "cell_type": "code",
   "execution_count": 15,
   "metadata": {
    "collapsed": true
   },
   "outputs": [],
   "source": [
    "def XOR(x1, x2):\n",
    "    S1 = AND(NOT(x1), x2)\n",
    "    S2 = AND(x1, NOT(x2))\n",
    "    Y = OR(S1, S2)\n",
    "    \n",
    "    return Y"
   ]
  },
  {
   "cell_type": "code",
   "execution_count": 16,
   "metadata": {},
   "outputs": [
    {
     "name": "stdout",
     "output_type": "stream",
     "text": [
      "0 0 => 0\n",
      "0 1 => 1\n",
      "1 0 => 1\n",
      "1 1 => 0\n"
     ]
    }
   ],
   "source": [
    "for i in [0, 1]:\n",
    "    for j in [0, 1]:\n",
    "        print(i, j, \"=>\", XOR(i,j))"
   ]
  },
  {
   "cell_type": "markdown",
   "metadata": {},
   "source": [
    "## SUM"
   ]
  },
  {
   "cell_type": "code",
   "execution_count": 18,
   "metadata": {
    "collapsed": true
   },
   "outputs": [],
   "source": [
    "def SUM(x1, x2):\n",
    "    SUM_BIT = XOR(x1, x2)\n",
    "    CARRY_BIT = AND(x1, x2)\n",
    "    \n",
    "    return CARRY_BIT,SUM_BIT"
   ]
  },
  {
   "cell_type": "code",
   "execution_count": 19,
   "metadata": {},
   "outputs": [
    {
     "name": "stdout",
     "output_type": "stream",
     "text": [
      "0 0 => (0, 0)\n",
      "0 1 => (0, 1)\n",
      "1 0 => (0, 1)\n",
      "1 1 => (1, 0)\n"
     ]
    }
   ],
   "source": [
    "for i in [0, 1]:\n",
    "    for j in [0, 1]:\n",
    "        print(i, j, \"=>\", SUM(i,j))"
   ]
  },
  {
   "cell_type": "markdown",
   "metadata": {},
   "source": [
    "## PARITY"
   ]
  },
  {
   "cell_type": "code",
   "execution_count": 20,
   "metadata": {
    "collapsed": true
   },
   "outputs": [],
   "source": [
    "def GET_PARITY(X):\n",
    "    PARITY_BIT = X[0]\n",
    "    \n",
    "    for i in range(1,len(X)):\n",
    "        PARITY_BIT = XOR(PARITY_BIT, X[i])\n",
    "    \n",
    "    return PARITY_BIT"
   ]
  },
  {
   "cell_type": "code",
   "execution_count": 33,
   "metadata": {
    "collapsed": true
   },
   "outputs": [],
   "source": [
    "def CHECK_PARITY(X, Y):\n",
    "    PARITY_BIT = GET_PARITY(X)\n",
    "    PAIRTY_CHECK_BIT = NOT(XOR(PARITY_BIT, Y))\n",
    "    \n",
    "    return PAIRTY_CHECK_BIT"
   ]
  },
  {
   "cell_type": "code",
   "execution_count": 32,
   "metadata": {},
   "outputs": [
    {
     "data": {
      "text/plain": [
       "0"
      ]
     },
     "execution_count": 32,
     "metadata": {},
     "output_type": "execute_result"
    }
   ],
   "source": [
    "data = [0,1,1,1,0,1,0,0]\n",
    "parity = GET_PARITY(data)\n",
    "parity"
   ]
  },
  {
   "cell_type": "code",
   "execution_count": 34,
   "metadata": {},
   "outputs": [
    {
     "data": {
      "text/plain": [
       "1"
      ]
     },
     "execution_count": 34,
     "metadata": {},
     "output_type": "execute_result"
    }
   ],
   "source": [
    "CHECK_PARITY(data, parity)"
   ]
  },
  {
   "cell_type": "code",
   "execution_count": 35,
   "metadata": {},
   "outputs": [
    {
     "data": {
      "text/plain": [
       "0"
      ]
     },
     "execution_count": 35,
     "metadata": {},
     "output_type": "execute_result"
    }
   ],
   "source": [
    "data = [0,1,1,1,0,1,0,1]\n",
    "CHECK_PARITY(data, parity)"
   ]
  }
 ],
 "metadata": {
  "kernelspec": {
   "display_name": "Python 3",
   "language": "python",
   "name": "python3"
  },
  "language_info": {
   "codemirror_mode": {
    "name": "ipython",
    "version": 3
   },
   "file_extension": ".py",
   "mimetype": "text/x-python",
   "name": "python",
   "nbconvert_exporter": "python",
   "pygments_lexer": "ipython3",
   "version": "3.5.0"
  }
 },
 "nbformat": 4,
 "nbformat_minor": 2
}
