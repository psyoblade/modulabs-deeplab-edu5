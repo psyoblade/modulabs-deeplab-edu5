{
 "cells": [
  {
   "cell_type": "code",
   "execution_count": null,
   "metadata": {
    "collapsed": true
   },
   "outputs": [],
   "source": [
    "import numpy as np"
   ]
  },
  {
   "cell_type": "code",
   "execution_count": null,
   "metadata": {
    "collapsed": true
   },
   "outputs": [],
   "source": [
    "import matplotlib.pyplot as plt"
   ]
  },
  {
   "cell_type": "markdown",
   "metadata": {},
   "source": [
    "## NAND GATE"
   ]
  },
  {
   "cell_type": "code",
   "execution_count": 41,
   "metadata": {
    "collapsed": true
   },
   "outputs": [],
   "source": [
    "def NAND(X1, X2):\n",
    "    if X1==1 and X2==1:\n",
    "        Y = 0\n",
    "    else:\n",
    "        Y = 1\n",
    "        \n",
    "    return Y"
   ]
  },
  {
   "cell_type": "code",
   "execution_count": 42,
   "metadata": {},
   "outputs": [
    {
     "name": "stdout",
     "output_type": "stream",
     "text": [
      "0 0 => 1\n",
      "0 1 => 1\n",
      "1 0 => 1\n",
      "1 1 => 0\n"
     ]
    }
   ],
   "source": [
    "for i in [0, 1]:\n",
    "    for j in [0, 1]:\n",
    "        print(i, j, \"=>\", NAND(i,j))\n",
    "        "
   ]
  },
  {
   "cell_type": "markdown",
   "metadata": {},
   "source": [
    "## NOT GATE"
   ]
  },
  {
   "cell_type": "code",
   "execution_count": 43,
   "metadata": {
    "collapsed": true
   },
   "outputs": [],
   "source": [
    "def NOT(X1):\n",
    "    Y = NAND(X1,X1)\n",
    "    return Y"
   ]
  },
  {
   "cell_type": "code",
   "execution_count": 44,
   "metadata": {},
   "outputs": [
    {
     "name": "stdout",
     "output_type": "stream",
     "text": [
      "1\n",
      "0\n"
     ]
    }
   ],
   "source": [
    "print(NOT(0))\n",
    "print(NOT(1))"
   ]
  },
  {
   "cell_type": "markdown",
   "metadata": {},
   "source": [
    "## AND GATE"
   ]
  },
  {
   "cell_type": "code",
   "execution_count": 45,
   "metadata": {
    "collapsed": true
   },
   "outputs": [],
   "source": [
    "def AND(X1, X2):\n",
    "    Y = NOT(NAND(X1,X2))\n",
    "    return Y    "
   ]
  },
  {
   "cell_type": "code",
   "execution_count": 46,
   "metadata": {},
   "outputs": [
    {
     "name": "stdout",
     "output_type": "stream",
     "text": [
      "0 0 => 0\n",
      "0 1 => 0\n",
      "1 0 => 0\n",
      "1 1 => 1\n"
     ]
    }
   ],
   "source": [
    "for i in [0, 1]:\n",
    "    for j in [0, 1]:\n",
    "        print(i, j, \"=>\", AND(i,j))\n",
    "        "
   ]
  },
  {
   "cell_type": "markdown",
   "metadata": {},
   "source": [
    "## OR GATE"
   ]
  },
  {
   "cell_type": "code",
   "execution_count": 47,
   "metadata": {
    "collapsed": true
   },
   "outputs": [],
   "source": [
    "def OR(X1, X2):\n",
    "    Y = NAND(NOT(X1), NOT(X2))\n",
    "    return Y    "
   ]
  },
  {
   "cell_type": "code",
   "execution_count": 48,
   "metadata": {},
   "outputs": [
    {
     "name": "stdout",
     "output_type": "stream",
     "text": [
      "0 0 => 0\n",
      "0 1 => 1\n",
      "1 0 => 1\n",
      "1 1 => 1\n"
     ]
    }
   ],
   "source": [
    "for i in [0, 1]:\n",
    "    for j in [0, 1]:\n",
    "        print(i, j, \"=>\", OR(i,j))\n",
    "        "
   ]
  },
  {
   "cell_type": "markdown",
   "metadata": {},
   "source": [
    "## XOR GATE"
   ]
  },
  {
   "cell_type": "code",
   "execution_count": 49,
   "metadata": {
    "collapsed": true
   },
   "outputs": [],
   "source": [
    "def XOR(X1, X2):\n",
    "    S1 = AND(NOT(X1), X2)\n",
    "    S2 = AND(X1, NOT(X2))\n",
    "    Y = OR(S1, S2)\n",
    "    \n",
    "    return Y"
   ]
  },
  {
   "cell_type": "code",
   "execution_count": 50,
   "metadata": {},
   "outputs": [
    {
     "name": "stdout",
     "output_type": "stream",
     "text": [
      "0 0 => 0\n",
      "0 1 => 1\n",
      "1 0 => 1\n",
      "1 1 => 0\n"
     ]
    }
   ],
   "source": [
    "for i in [0, 1]:\n",
    "    for j in [0, 1]:\n",
    "        print(i, j, \"=>\", XOR(i,j))\n",
    "        "
   ]
  },
  {
   "cell_type": "markdown",
   "metadata": {},
   "source": [
    "## SUM"
   ]
  },
  {
   "cell_type": "code",
   "execution_count": 51,
   "metadata": {
    "collapsed": true
   },
   "outputs": [],
   "source": [
    "def SUM(X1, X2):\n",
    "    SUM_BIT = XOR(X1, X2)\n",
    "    CARRY_BIT = AND(X1, X2)\n",
    "    \n",
    "    return CARRY_BIT,SUM_BIT"
   ]
  },
  {
   "cell_type": "code",
   "execution_count": 52,
   "metadata": {},
   "outputs": [
    {
     "name": "stdout",
     "output_type": "stream",
     "text": [
      "0 0 => (0, 0)\n",
      "0 1 => (0, 1)\n",
      "1 0 => (0, 1)\n",
      "1 1 => (1, 0)\n"
     ]
    }
   ],
   "source": [
    "for i in [0, 1]:\n",
    "    for j in [0, 1]:\n",
    "        print(i, j, \"=>\", SUM(i,j))\n",
    "        "
   ]
  },
  {
   "cell_type": "markdown",
   "metadata": {},
   "source": [
    "## PARITY"
   ]
  },
  {
   "cell_type": "code",
   "execution_count": null,
   "metadata": {
    "collapsed": true
   },
   "outputs": [],
   "source": [
    "def GET_PARITY(X):\n",
    "    # Even Parity\n",
    "    PARITY_BIT = X[0]\n",
    "    \n",
    "    for i in range(1,len(X)):\n",
    "        PARITY_BIT = XOR(PARITY_BIT, X[i])\n",
    "    \n",
    "    return PARITY_BIT"
   ]
  },
  {
   "cell_type": "code",
   "execution_count": 55,
   "metadata": {
    "collapsed": true
   },
   "outputs": [],
   "source": [
    "def CHECK_PARITY(X, Y):\n",
    "    PARITY_BIT = GET_PARITY(X)\n",
    "    PAIRTY_CHECK_BIT = NOT(XOR(PARITY_BIT, Y))\n",
    "    \n",
    "    return PAIRTY_CHECK_BIT"
   ]
  },
  {
   "cell_type": "code",
   "execution_count": 58,
   "metadata": {},
   "outputs": [
    {
     "data": {
      "text/plain": [
       "0"
      ]
     },
     "execution_count": 58,
     "metadata": {},
     "output_type": "execute_result"
    }
   ],
   "source": [
    "data = [0,1,1,1,0,1,0,0]\n",
    "parity = GET_PARITY(data)\n",
    "parity"
   ]
  },
  {
   "cell_type": "code",
   "execution_count": 56,
   "metadata": {},
   "outputs": [
    {
     "data": {
      "text/plain": [
       "1"
      ]
     },
     "execution_count": 56,
     "metadata": {},
     "output_type": "execute_result"
    }
   ],
   "source": [
    "CHECK_PARITY(data, parity)"
   ]
  },
  {
   "cell_type": "code",
   "execution_count": 57,
   "metadata": {},
   "outputs": [
    {
     "data": {
      "text/plain": [
       "0"
      ]
     },
     "execution_count": 57,
     "metadata": {},
     "output_type": "execute_result"
    }
   ],
   "source": [
    "data = [0,1,1,1,0,1,0,1]\n",
    "CHECK_PARITY(data, parity)"
   ]
  }
 ],
 "metadata": {
  "kernelspec": {
   "display_name": "Python 3",
   "language": "python",
   "name": "python3"
  },
  "language_info": {
   "codemirror_mode": {
    "name": "ipython",
    "version": 3
   },
   "file_extension": ".py",
   "mimetype": "text/x-python",
   "name": "python",
   "nbconvert_exporter": "python",
   "pygments_lexer": "ipython3",
   "version": "3.5.0"
  }
 },
 "nbformat": 4,
 "nbformat_minor": 2
}
