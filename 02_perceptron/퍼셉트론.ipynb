{
 "cells": [
  {
   "cell_type": "markdown",
   "metadata": {},
   "source": [
    "1.AND게이트"
   ]
  },
  {
   "cell_type": "code",
   "execution_count": 1,
   "metadata": {
    "collapsed": true
   },
   "outputs": [],
   "source": [
    "def AND(x1, x2):\n",
    "    w1, w2, theta = 0.5, 0.5, 0.7 #초기값인 가중치1 가중치2 임계값 설정\n",
    "    tmp = w1*x1 + w2*x2 #식을 만들어줌\n",
    "    if tmp <= theta: #theta보다 작다면 return 0\n",
    "        return 0\n",
    "    elif tmp > theta: #theta보다 크다면 return 1\n",
    "        return 1"
   ]
  },
  {
   "cell_type": "code",
   "execution_count": 2,
   "metadata": {},
   "outputs": [
    {
     "name": "stdout",
     "output_type": "stream",
     "text": [
      "0\n",
      "0\n",
      "0\n",
      "1\n"
     ]
    }
   ],
   "source": [
    "print(AND(0,0))\n",
    "print(AND(1,0))\n",
    "print(AND(0,1))\n",
    "print(AND(1,1))"
   ]
  },
  {
   "cell_type": "markdown",
   "metadata": {},
   "source": [
    "2.NAND게이트"
   ]
  },
  {
   "cell_type": "code",
   "execution_count": 3,
   "metadata": {
    "collapsed": true
   },
   "outputs": [],
   "source": [
    "def NAND(x1, x2):\n",
    "    w1, w2, theta = -0.5, -0.5, -0.7 #초기값인 가중치1 가중치2 임계값 설정\n",
    "    tmp = w1*x1 + w2*x2 #식을 만들어줌\n",
    "    if tmp <= theta: #theta보다 작다면 return 0\n",
    "        return 0\n",
    "    elif tmp > theta: #theta보다 크다면 return 1\n",
    "        return 1"
   ]
  },
  {
   "cell_type": "code",
   "execution_count": 4,
   "metadata": {},
   "outputs": [
    {
     "name": "stdout",
     "output_type": "stream",
     "text": [
      "1\n",
      "1\n",
      "1\n",
      "0\n"
     ]
    }
   ],
   "source": [
    "print(NAND(0,0))\n",
    "print(NAND(1,0))\n",
    "print(NAND(0,1))\n",
    "print(NAND(1,1))"
   ]
  },
  {
   "cell_type": "markdown",
   "metadata": {},
   "source": [
    "3.OR게이트"
   ]
  },
  {
   "cell_type": "code",
   "execution_count": 5,
   "metadata": {
    "collapsed": true
   },
   "outputs": [],
   "source": [
    "def OR(x1, x2):\n",
    "    w1, w2, theta = 0.5, 0.5, 0.3 #초기값인 가중치1 가중치2 임계값 설정\n",
    "    tmp = w1*x1 + w2*x2 #식을 만들어줌\n",
    "    if tmp <= theta: #theta보다 작다면 return 0\n",
    "        return 0\n",
    "    elif tmp > theta: #theta보다 크다면 return 1\n",
    "        return 1"
   ]
  },
  {
   "cell_type": "code",
   "execution_count": 6,
   "metadata": {},
   "outputs": [
    {
     "name": "stdout",
     "output_type": "stream",
     "text": [
      "0\n",
      "1\n",
      "1\n",
      "1\n"
     ]
    }
   ],
   "source": [
    "print(OR(0,0))\n",
    "print(OR(1,0))\n",
    "print(OR(0,1))\n",
    "print(OR(1,1))"
   ]
  },
  {
   "cell_type": "markdown",
   "metadata": {
    "collapsed": true
   },
   "source": [
    "theta 값을 b라는 편향(bias)로 바꾸는 다른 방식으로 구현"
   ]
  },
  {
   "cell_type": "code",
   "execution_count": 7,
   "metadata": {
    "collapsed": true
   },
   "outputs": [],
   "source": [
    "import numpy as np"
   ]
  },
  {
   "cell_type": "code",
   "execution_count": 8,
   "metadata": {},
   "outputs": [
    {
     "data": {
      "text/plain": [
       "0.5"
      ]
     },
     "execution_count": 8,
     "metadata": {},
     "output_type": "execute_result"
    }
   ],
   "source": [
    "x = np.array([0,1]) # X1 = 0 , X2 = 1\n",
    "w = np.array([0.5,0.5]) # W1 = 0.5 , W2 = 0.5\n",
    "b = -0.7 # 편향 = -0.7\n",
    "w*x # [0*0.5,1*0.5]\n",
    "np.sum(w*x) #총합 계산"
   ]
  },
  {
   "cell_type": "code",
   "execution_count": 9,
   "metadata": {},
   "outputs": [
    {
     "data": {
      "text/plain": [
       "-0.19999999999999996"
      ]
     },
     "execution_count": 9,
     "metadata": {},
     "output_type": "execute_result"
    }
   ],
   "source": [
    "np.sum(w*x)+b"
   ]
  },
  {
   "cell_type": "code",
   "execution_count": 10,
   "metadata": {
    "collapsed": true
   },
   "outputs": [],
   "source": [
    "def AND(x1, x2):\n",
    "    x = np.array([x1,x2]) #x1,x2 배열 생성\n",
    "    w = np.array([0.5,0.5]) # 가중치 w1 w2 에 0.5 대입\n",
    "    b = -0.7 #편향에 -0.7\n",
    "    tmp = np.sum(w*x) + b #활성화 식 \n",
    "    if tmp <= 0: \n",
    "        return 0 #tmp가 0보다 작으면 0 출력\n",
    "    else:\n",
    "        return 1 #tmp가 0보다 크면 1 출력\n",
    "    "
   ]
  },
  {
   "cell_type": "code",
   "execution_count": 11,
   "metadata": {},
   "outputs": [
    {
     "name": "stdout",
     "output_type": "stream",
     "text": [
      "0\n",
      "0\n",
      "0\n",
      "1\n"
     ]
    }
   ],
   "source": [
    "print(AND(0,0))\n",
    "print(AND(1,0))\n",
    "print(AND(0,1))\n",
    "print(AND(1,1))"
   ]
  },
  {
   "cell_type": "code",
   "execution_count": 12,
   "metadata": {
    "collapsed": true
   },
   "outputs": [],
   "source": [
    "def NAND(x1,x2):\n",
    "    x = np.array([x1,x2]) # x1,x2 배열 생성\n",
    "    w = np.array([-0.5,-0.5]) # 가중치 w1 w2 에 -0.5 대입\n",
    "    b = 0.7 #편향에 0.7\n",
    "    tmp = np.sum(w*x) + b #활성화식\n",
    "    if tmp <= 0:\n",
    "        return 0 #tmp가 0보다 작으면 0 출력\n",
    "    else:\n",
    "        return 1 #tmp가 0보다 크면 1 출력\n",
    "    \n",
    "    "
   ]
  },
  {
   "cell_type": "code",
   "execution_count": 13,
   "metadata": {},
   "outputs": [
    {
     "name": "stdout",
     "output_type": "stream",
     "text": [
      "1\n",
      "1\n",
      "1\n",
      "0\n"
     ]
    }
   ],
   "source": [
    "print(NAND(0,0))\n",
    "print(NAND(1,0))\n",
    "print(NAND(0,1))\n",
    "print(NAND(1,1))"
   ]
  },
  {
   "cell_type": "code",
   "execution_count": 14,
   "metadata": {},
   "outputs": [],
   "source": [
    "def OR(x1,x2):\n",
    "    x = np.array([x1,x2]) # x1,x2 배열 생성\n",
    "    w = np.array([0.5,0.5]) # 가중치 w1 w2 에 0.5 대입\n",
    "    b = -0.2 #편향에 -0.2\n",
    "    tmp = np.sum(w*x) + b #활성화식\n",
    "    if tmp <= 0:\n",
    "        return 0 #tmp가 0보다 작으면 0 출력\n",
    "    else:\n",
    "        return 1 #tmp가 0보다 크면 1 출력\n",
    "    "
   ]
  },
  {
   "cell_type": "code",
   "execution_count": 15,
   "metadata": {},
   "outputs": [
    {
     "name": "stdout",
     "output_type": "stream",
     "text": [
      "0\n",
      "1\n",
      "1\n",
      "1\n"
     ]
    }
   ],
   "source": [
    "print(OR(0,0))\n",
    "print(OR(1,0))\n",
    "print(OR(0,1))\n",
    "print(OR(1,1))"
   ]
  }
 ],
 "metadata": {
  "anaconda-cloud": {},
  "kernelspec": {
   "display_name": "Python 3",
   "language": "python",
   "name": "python3"
  },
  "language_info": {
   "codemirror_mode": {
    "name": "ipython",
    "version": 3
   },
   "file_extension": ".py",
   "mimetype": "text/x-python",
   "name": "python",
   "nbconvert_exporter": "python",
   "pygments_lexer": "ipython3",
   "version": "3.5.3"
  }
 },
 "nbformat": 4,
 "nbformat_minor": 1
}
