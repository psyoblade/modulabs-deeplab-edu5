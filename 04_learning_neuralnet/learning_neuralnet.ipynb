{
 "cells": [
  {
   "cell_type": "code",
   "execution_count": 1,
   "metadata": {
    "collapsed": true
   },
   "outputs": [],
   "source": [
    "import numpy as np\n",
    "\n",
    "### 신경망은 모든 문제를 주어진 데이터 그대로를 입력 데이터로 활용해 'end-to-end'로 학습할 수 있다\n",
    "# 신경망 학습에서  사용하는 지표는 손실함수loss_function*라고 한다.\n",
    "\n",
    "# MSE(Mean Square Error) : 평균 제곱 오차\n",
    "def mean_square_error(y, t):\n",
    "    return 0.5 * np.sum((y-t)**2)\n",
    "\n",
    "# CEE(Cross Entropy Error) : 교차 엔트로피 오차\n",
    "def cross_entropy_error(y, t):\n",
    "    delta = 1e-7\n",
    "    return -np.sum(t*np.log(y + delta)) # one-hot-encoding 값이므로 정답인 경우의 추정값의 자연로그를 계산하는 값\n",
    "\n",
    "# X1. 교체 엔트로피 함수를 차트로 그려보자\n",
    "\n",
    "# 어쨌거나 결과는 어느 에러함수를 사용하든지 오차값이 적은 쪽의 결과로 수렴하도록 파라메터를 튜닝하는 것이 목적\n",
    "\n",
    "# Q1. 왜 이러한 두 가지 방식을 쓰며, 어떤 각 각의 장.단점이 있는가?\n"
   ]
  },
  {
   "cell_type": "code",
   "execution_count": 2,
   "metadata": {},
   "outputs": [
    {
     "data": {
      "text/plain": [
       "array([29370, 34557, 10846, 52086, 41381, 34480, 33320, 53725, 10914, 33822])"
      ]
     },
     "execution_count": 2,
     "metadata": {},
     "output_type": "execute_result"
    }
   ],
   "source": [
    "# Q2. 왜 분류에서는 softmax 함수를 쓰는가?\n",
    "\n",
    "# 미니배치(mini-batch): 너무 큰 데이터를 전체를 모두 학습에 쓰기에 부담되기 때문에, 일부를 샘플링하여 학습에 사용하는 방법 \n",
    "np.random.choice(60000, 10)"
   ]
  },
  {
   "cell_type": "code",
   "execution_count": null,
   "metadata": {
    "collapsed": true
   },
   "outputs": [],
   "source": [
    "\n",
    "\n",
    "\n",
    "\n",
    "\n"
   ]
  },
  {
   "cell_type": "code",
   "execution_count": null,
   "metadata": {
    "collapsed": true
   },
   "outputs": [],
   "source": []
  }
 ],
 "metadata": {
  "kernelspec": {
   "display_name": "Python 3",
   "language": "python",
   "name": "python3"
  },
  "language_info": {
   "codemirror_mode": {
    "name": "ipython",
    "version": 3
   },
   "file_extension": ".py",
   "mimetype": "text/x-python",
   "name": "python",
   "nbconvert_exporter": "python",
   "pygments_lexer": "ipython3",
   "version": "3.5.3"
  }
 },
 "nbformat": 4,
 "nbformat_minor": 2
}
