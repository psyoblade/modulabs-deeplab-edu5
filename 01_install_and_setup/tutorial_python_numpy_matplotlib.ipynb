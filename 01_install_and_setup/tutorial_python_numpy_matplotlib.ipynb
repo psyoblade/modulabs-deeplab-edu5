{
 "cells": [
  {
   "cell_type": "code",
   "execution_count": 1,
   "metadata": {},
   "outputs": [
    {
     "name": "stdout",
     "output_type": "stream",
     "text": [
      "False\n",
      "True\n",
      "0\n",
      "(1, 2)\n",
      "(1, 2)\n",
      "1\n",
      "<class 'tuple'>\n",
      "7\n",
      "1\n",
      "-9223372036854775807\n",
      "9223372036854775807\n",
      "7\n",
      "1\n",
      "test\n"
     ]
    }
   ],
   "source": [
    "import math\n",
    "def test():\n",
    "    print(math.sqrt(2*math.pi) * math.exp(-math.pow(1.96,2)/2 + 1))\n",
    "\n",
    "dice = { 'a1':1, 'a2':2, 'b1':3, 'b2':4, 'c1':5, 'c2':6 }\n",
    "dice2 = { 'a1':1, 'a2':6, 'b1':2, 'b2':5, 'c1':3, 'c2':4 }\n",
    "\n",
    "def test2(dice):\n",
    "    if ((dice['a1'] + dice['a2'] == 7) and ((dice['b1'] + dice['b2']) == 7) and (dice['c1'] + dice['c2']) == 7):\n",
    "        return True\n",
    "    return False\n",
    "\n",
    "\n",
    "print(test2(dice))\n",
    "print(test2(dice2))\n",
    "\n",
    "print (12398 and 0 and 1)\n",
    "\n",
    "a = [1,1,1]\n",
    "b = [2,2]\n",
    "c = zip(a,b)\n",
    "for x in c.__iter__():\n",
    "    print(x)\n",
    "\n",
    "print(9 % 2)\n",
    "\n",
    "def ttt(x):\n",
    "    return a, b, c\n",
    "\n",
    "print(type(ttt(1)))\n",
    "\n",
    "list = [ 1,2,3,4,6,2,3,7,7,4,2 ]\n",
    "\n",
    "import sys\n",
    "\n",
    "def max_(l):\n",
    "    max_value = -sys.maxsize\n",
    "    for x in l:\n",
    "        if x > max_value:\n",
    "            max_value = x\n",
    "    return max_value\n",
    "\n",
    "def min_(l):\n",
    "    min_value = sys.maxsize\n",
    "    for x in l:\n",
    "        if x < min_value:\n",
    "            min_value = x\n",
    "    return min_value\n",
    "\n",
    "\n",
    "print(max_(list))\n",
    "print(min_(list))\n",
    "\n",
    "print(-sys.maxsize)\n",
    "print(sys.maxsize)\n",
    "\n",
    "def max_2(l):\n",
    "    return sorted(l)[len(l)-1]\n",
    "\n",
    "def min_2(l):\n",
    "    return sorted(l)[0]\n",
    "\n",
    "print(max_2(list))\n",
    "print(min_2(list))\n",
    "\n",
    "def max_3(a, b):\n",
    "    if a > b: return a\n",
    "    else: return b\n",
    "\n",
    "# x = map(max_3, list)\n",
    "#\n",
    "# print(x)\n",
    "# for y in x.__iter__():\n",
    "#     print(y)\n",
    "\n",
    "\n",
    "class MyClass:\n",
    "    def __init__(self):\n",
    "        self.member_val = \"test\"\n",
    "    def print(self):\n",
    "        print(self.member_val)\n",
    "\n",
    "x = MyClass()\n",
    "x.print()\n",
    "\n",
    "\n",
    "import numpy as np\n",
    "a = np.array([1,2,3])"
   ]
  },
  {
   "cell_type": "code",
   "execution_count": 6,
   "metadata": {},
   "outputs": [
    {
     "name": "stdout",
     "output_type": "stream",
     "text": [
      "Enter password: ········\n",
      "Verify password: ········\n"
     ]
    },
    {
     "data": {
      "text/plain": [
       "'sha1:a5760d45819d:507d8c6f0c20babc44af1bd1dd2ef53a8a58ce1f'"
      ]
     },
     "execution_count": 6,
     "metadata": {},
     "output_type": "execute_result"
    }
   ],
   "source": [
    "from notebook.auth import passwd\n",
    "    \n",
    "passwd()\n"
   ]
  },
  {
   "cell_type": "code",
   "execution_count": null,
   "metadata": {
    "collapsed": true
   },
   "outputs": [],
   "source": []
  }
 ],
 "metadata": {
  "kernelspec": {
   "display_name": "Python 3",
   "language": "python",
   "name": "python3"
  },
  "language_info": {
   "codemirror_mode": {
    "name": "ipython",
    "version": 3
   },
   "file_extension": ".py",
   "mimetype": "text/x-python",
   "name": "python",
   "nbconvert_exporter": "python",
   "pygments_lexer": "ipython3",
   "version": "3.5.3"
  }
 },
 "nbformat": 4,
 "nbformat_minor": 2
}
