{
 "cells": [
  {
   "cell_type": "code",
   "execution_count": 2,
   "metadata": {},
   "outputs": [
    {
     "name": "stdout",
     "output_type": "stream",
     "text": [
      "9.0\n"
     ]
    }
   ],
   "source": [
    "import tensorflow as tf\n",
    "\n",
    "# 프로그램 실행 중에 값을 변경할 수 있는 플레이스홀더라는 심벌릭 변수 2개를 정의\n",
    "a = tf.placeholder(\"float\")\n",
    "b = tf.placeholder(\"float\")\n",
    "\n",
    "y = tf.multiply(a, b)\n",
    "sess = tf.Session()\n",
    "\n",
    "print(sess.run(y, feed_dict={a:3, b:3}))"
   ]
  },
  {
   "cell_type": "code",
   "execution_count": 4,
   "metadata": {},
   "outputs": [
    {
     "name": "stderr",
     "output_type": "stream",
     "text": [
      "/Users/psyoblade/anaconda/envs/tf35/lib/python3.5/site-packages/matplotlib/axes/_axes.py:545: UserWarning: No labelled objects found. Use label='...' kwarg on individual plots.\n",
      "  warnings.warn(\"No labelled objects found. \"\n"
     ]
    },
    {
     "data": {
      "image/png": "[encoded data removed]",
      "text/plain": [
       "<matplotlib.figure.Figure at 0x1147ec320>"
      ]
     },
     "metadata": {},
     "output_type": "display_data"
    }
   ],
   "source": [
    "import numpy as np\n",
    "num_points = 1000\n",
    "vectors_set = []\n",
    "\n",
    "for i in range(num_points):\n",
    "    x1 = np.random.normal(0.0, 0.55)\n",
    "    y1 = x1 * 0.1 + 0.3 + np.random.normal(0.0, 0.03)\n",
    "    vectors_set.append([x1, y1])\n",
    "    \n",
    "x_data = [v[0] for v in vectors_set]\n",
    "y_data = [v[1] for v in vectors_set]\n",
    "\n",
    "import matplotlib.pyplot as plt\n",
    "plt.plot(x_data, y_data, 'ro')\n",
    "plt.legend()\n",
    "plt.show()"
   ]
  },
  {
   "cell_type": "code",
   "execution_count": 13,
   "metadata": {},
   "outputs": [
    {
     "name": "stdout",
     "output_type": "stream",
     "text": [
      "0 [ 0.83379602] [ 0.]\n",
      "1 [ 0.61300206] [ 0.30621526]\n",
      "2 [ 0.46056932] [ 0.30452308]\n",
      "3 [ 0.35369894] [ 0.30335486]\n",
      "4 [ 0.27877241] [ 0.30253583]\n",
      "5 [ 0.22624162] [ 0.30196163]\n",
      "6 [ 0.18941242] [ 0.30155903]\n",
      "7 [ 0.16359158] [ 0.3012768]\n",
      "8 [ 0.14548866] [ 0.30107892]\n",
      "9 [ 0.13279675] [ 0.30094019]\n",
      "10 [ 0.12389848] [ 0.30084291]\n",
      "11 [ 0.11765994] [ 0.30077472]\n",
      "12 [ 0.11328612] [ 0.30072689]\n",
      "13 [ 0.11021964] [ 0.30069339]\n",
      "14 [ 0.10806973] [ 0.30066988]\n",
      "15 [ 0.10656244] [ 0.3006534]\n",
      "16 [ 0.10550568] [ 0.30064186]\n",
      "17 [ 0.1047648] [ 0.30063376]\n",
      "18 [ 0.10424536] [ 0.30062807]\n",
      "19 [ 0.10388119] [ 0.3006241]\n",
      "[ 0.10362586] [ 0.3006213]\n"
     ]
    }
   ],
   "source": [
    "import tensorflow as tf\n",
    "W = tf.Variable(tf.random_uniform([1], -1.0, 1.0))\n",
    "b = tf.Variable(tf.zeros([1]))\n",
    "y = W * x_data + b\n",
    "loss = tf.reduce_mean(tf.square(y - y_data))\n",
    "optimizer = tf.train.GradientDescentOptimizer(0.5)\n",
    "train = optimizer.minimize(loss)\n",
    "init = tf.global_variables_initializer() # initialize_all_variables()\n",
    "sess = tf.Session()\n",
    "sess.run(init)\n",
    "for step in range(20):\n",
    "    print(step, sess.run(W), sess.run(b))\n",
    "    sess.run(train)\n",
    "print(sess.run(W), sess.run(b))"
   ]
  },
  {
   "cell_type": "code",
   "execution_count": 12,
   "metadata": {},
   "outputs": [
    {
     "name": "stderr",
     "output_type": "stream",
     "text": [
      "/Users/psyoblade/anaconda/envs/tf35/lib/python3.5/site-packages/matplotlib/axes/_axes.py:545: UserWarning: No labelled objects found. Use label='...' kwarg on individual plots.\n",
      "  warnings.warn(\"No labelled objects found. \"\n"
     ]
    },
    {
     "data": {
      "image/png": "[encoded data removed]",
      "text/plain": [
       "<matplotlib.figure.Figure at 0x117a50e10>"
      ]
     },
     "metadata": {},
     "output_type": "display_data"
    }
   ],
   "source": [
    "plt.plot(x_data, y_data, 'ro')\n",
    "plt.plot(x_data, sess.run(W) * x_data + sess.run(b))\n",
    "plt.legend()\n",
    "plt.xlabel('x')\n",
    "plt.ylabel('y')\n",
    "plt.show()"
   ]
  },
  {
   "cell_type": "code",
   "execution_count": null,
   "metadata": {
    "collapsed": true
   },
   "outputs": [],
   "source": []
  }
 ],
 "metadata": {
  "kernelspec": {
   "display_name": "Python 3",
   "language": "python",
   "name": "python3"
  },
  "language_info": {
   "codemirror_mode": {
    "name": "ipython",
    "version": 3
   },
   "file_extension": ".py",
   "mimetype": "text/x-python",
   "name": "python",
   "nbconvert_exporter": "python",
   "pygments_lexer": "ipython3",
   "version": "3.5.3"
  }
 },
 "nbformat": 4,
 "nbformat_minor": 2
}
