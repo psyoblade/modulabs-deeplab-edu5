{
 "cells": [
  {
   "cell_type": "code",
   "execution_count": 39,
   "metadata": {},
   "outputs": [
    {
     "name": "stdout",
     "output_type": "stream",
     "text": [
      "50 0.702869\n",
      "100 0.514705\n",
      "150 0.437956\n",
      "200 0.403984\n",
      "250 0.382499\n",
      "300 0.367597\n",
      "350 0.357057\n",
      "400 0.349962\n",
      "450 0.344057\n",
      "500 0.339057\n",
      "예측값 [0 0 0 2]\n",
      "실제값 [0 0 1 2]\n",
      "정확도: 75.00%\n"
     ]
    }
   ],
   "source": [
    "import tensorflow as tf\n",
    "import numpy as np\n",
    "\n",
    "# 학습용 데이터 생성\n",
    "x_data = np.array([\n",
    "    [1.9,1.8,0.2,0.2],\n",
    "    [0.9,0.7,0.0,0.1],\n",
    "    [-0.1,-0.1,-2.8,-0.1],\n",
    "    [0.0,0.0,0.0,9.0]\n",
    "])\n",
    "# churn = [1,0,0], not_churn = [0,1,0], undefined = [0,0,1]\n",
    "y_data = np.array([\n",
    "    [1,0,0],\n",
    "    [1,0,0],\n",
    "    [0,1,0,],\n",
    "    [0,0,1]\n",
    "])\n",
    "\n",
    "# 변수생성\n",
    "X = tf.placeholder(tf.float32)\n",
    "Y = tf.placeholder(tf.float32)\n",
    "W = tf.Variable(tf.random_uniform([4,3], -1.0, 1.0)) # [4: 변수의 개수, 3: 카테고리의 개수]\n",
    "b = tf.Variable(tf.zeros([3])) # 카테고리 별 bias\n",
    "\n",
    "# 네트워크 및 모델 생성\n",
    "L = tf.add(tf.matmul(X, W), b)\n",
    "L = tf.nn.relu(L)\n",
    "model = tf.nn.softmax(L)\n",
    "cost = tf.reduce_mean(-tf.reduce_sum(Y * tf.log(model), axis=1))\n",
    "optimizer = tf.train.GradientDescentOptimizer(learning_rate=0.01)\n",
    "train_op = optimizer.minimize(cost)\n",
    "\n",
    "# 텐서플로우의 세션을 초기화\n",
    "init = tf.global_variables_initializer()\n",
    "session = tf.Session()\n",
    "session.run(init)\n",
    "\n",
    "# 100번 학습 진행\n",
    "for step in range(500):\n",
    "    session.run(train_op, feed_dict={X: x_data, Y: y_data})\n",
    "    # 10번에 1번씩 결과 출력\n",
    "    if (step + 1) % 50 == 0:\n",
    "        print(step + 1, session.run(cost, feed_dict={X: x_data, Y: y_data}))\n",
    "\n",
    "prediction = tf.argmax(model, axis=1)\n",
    "target = tf.argmax(Y, axis=1)\n",
    "print('예측값', session.run(prediction, feed_dict={X: x_data}))\n",
    "print('실제값', session.run(target, feed_dict={Y: y_data}))\n",
    "\n",
    "is_correct = tf.equal(prediction, target)\n",
    "accuracy = tf.reduce_mean(tf.cast(is_correct, tf.float32))      \n",
    "print('정확도: %.2f%%' % session.run(accuracy * 100, feed_dict={X: x_data, Y: y_data}))"
   ]
  },
  {
   "cell_type": "code",
   "execution_count": null,
   "metadata": {
    "collapsed": true
   },
   "outputs": [],
   "source": []
  }
 ],
 "metadata": {
  "kernelspec": {
   "display_name": "Python [tf35]",
   "language": "python",
   "name": "Python [tf35]"
  },
  "language_info": {
   "codemirror_mode": {
    "name": "ipython",
    "version": 3
   },
   "file_extension": ".py",
   "mimetype": "text/x-python",
   "name": "python",
   "nbconvert_exporter": "python",
   "pygments_lexer": "ipython3",
   "version": "3.5.3"
  }
 },
 "nbformat": 4,
 "nbformat_minor": 2
}
